{
 "cells": [
  {
   "cell_type": "code",
   "execution_count": 5,
   "id": "5c37d055",
   "metadata": {},
   "outputs": [
    {
     "name": "stdout",
     "output_type": "stream",
     "text": [
      "reading output/P1/2025-08-24_12-08-34/prompt.json\n",
      "found region_caption in output/P1/2025-08-24_12-08-34/prompt.json\n",
      "reading output/P1/2025-08-24_12-04-38/prompt.json\n",
      "reading output/P1/2025-08-24_11-56-33/prompt.json\n",
      "found region_caption in output/P1/2025-08-24_11-56-33/prompt.json\n",
      "reading output/P1/2025-08-24_11-38-32/prompt.json\n",
      "found region_caption in output/P1/2025-08-24_11-38-32/prompt.json\n",
      "reading output/P1/2025-08-24_11-33-19/prompt.json\n",
      "found region_caption in output/P1/2025-08-24_11-33-19/prompt.json\n",
      "reading output/P1/2025-08-24_11-59-59/prompt.json\n",
      "reading output/P1/2025-08-24_12-05-25/prompt.json\n",
      "reading output/P1/2025-08-24_12-10-24/prompt.json\n",
      "found region_caption in output/P1/2025-08-24_12-10-24/prompt.json\n",
      "reading output/P1/2025-08-24_11-40-43/prompt.json\n",
      "found region_caption in output/P1/2025-08-24_11-40-43/prompt.json\n",
      "reading output/P1/2025-08-24_12-02-52/prompt.json\n",
      "found region_caption in output/P1/2025-08-24_12-02-52/prompt.json\n",
      "reading output/P1/2025-08-24_12-04-10/prompt.json\n",
      "found region_caption in output/P1/2025-08-24_12-04-10/prompt.json\n",
      "Saved region_caption to result/prompt/region_caption.csv\n"
     ]
    }
   ],
   "source": [
    "import os\n",
    "import json\n",
    "import csv\n",
    "\n",
    "# 결과 저장 경로\n",
    "output_csv = \"result/prompt/region_caption.csv\"\n",
    "os.makedirs(os.path.dirname(output_csv), exist_ok=True)\n",
    "\n",
    "# 데이터 수집\n",
    "region_captions = []\n",
    "output_dir = \"output/P1\"\n",
    "for time_folder in os.listdir(output_dir):\n",
    "    prompt_path = os.path.join(output_dir, time_folder, \"prompt.json\")\n",
    "    if os.path.isfile(prompt_path):\n",
    "        print(\"reading\", prompt_path)\n",
    "        with open(prompt_path, \"r\", encoding=\"utf-8\") as f:\n",
    "            data = json.load(f)\n",
    "            # region_caption이 있으면 저장\n",
    "            if \"region_captions\" in data:\n",
    "                print(\"found region_caption in\", prompt_path)\n",
    "                region_captions.append([time_folder, data[\"region_captions\"]])\n",
    "\n",
    "# CSV로 저장\n",
    "with open(output_csv, \"w\", newline=\"\", encoding=\"utf-8\") as f:\n",
    "    writer = csv.writer(f)\n",
    "    writer.writerow([\"time\", \"region_caption\"])\n",
    "    writer.writerows(region_captions)\n",
    "\n",
    "print(f\"Saved region_caption to {output_csv}\")"
   ]
  },
  {
   "cell_type": "code",
   "execution_count": null,
   "id": "ebb1f9b7",
   "metadata": {},
   "outputs": [],
   "source": []
  }
 ],
 "metadata": {
  "kernelspec": {
   "display_name": "Python 3",
   "language": "python",
   "name": "python3"
  },
  "language_info": {
   "codemirror_mode": {
    "name": "ipython",
    "version": 3
   },
   "file_extension": ".py",
   "mimetype": "text/x-python",
   "name": "python",
   "nbconvert_exporter": "python",
   "pygments_lexer": "ipython3",
   "version": "3.10.9"
  }
 },
 "nbformat": 4,
 "nbformat_minor": 5
}
